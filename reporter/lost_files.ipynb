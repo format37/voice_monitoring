{
 "cells": [
  {
   "cell_type": "code",
   "execution_count": 1,
   "id": "ec4d9d00",
   "metadata": {},
   "outputs": [],
   "source": [
    "import pymysql\n",
    "import pymssql\n",
    "import os\n",
    "import pandas as pd\n",
    "import datetime"
   ]
  },
  {
   "cell_type": "code",
   "execution_count": 2,
   "id": "ce324684",
   "metadata": {},
   "outputs": [],
   "source": [
    "def ms_sql_con():\n",
    "    sql_name = 'voice_ai'\n",
    "    sql_server = '10.2.4.124'\n",
    "    sql_login = 'ICECORP\\\\1c_sql'\n",
    "\n",
    "    with open('sql.pass','r') as file:\n",
    "        sql_pass = file.read().replace('\\n', '')\n",
    "        file.close()\n",
    "\n",
    "    return pymssql.connect(\n",
    "            server = sql_server,\n",
    "            user = sql_login,\n",
    "            password = sql_pass,\n",
    "            database = sql_name,\n",
    "        )\n",
    "sql_conn = ms_sql_con()"
   ]
  },
  {
   "cell_type": "code",
   "execution_count": 3,
   "id": "5cfa4677",
   "metadata": {},
   "outputs": [],
   "source": [
    "def calls_mysql_con_init():\n",
    "    return pymysql.connect(\n",
    "        host = '10.2.4.87',\n",
    "        user = 'root',\n",
    "        passwd = 'root',\n",
    "        database = 'ml'\n",
    "    )\n",
    "calls_mysql_conn = calls_mysql_con_init()"
   ]
  },
  {
   "cell_type": "code",
   "execution_count": 23,
   "id": "76d1c7d2",
   "metadata": {},
   "outputs": [],
   "source": [
    "def master_mysql_con_init():\n",
    "    with open('mysql.pass','r') as file:\n",
    "        mysql_pass = file.read().replace('\\n', '')\n",
    "        file.close()\n",
    "    return pymysql.connect(\n",
    "        host = '10.2.4.146', \n",
    "        user = 'asterisk', \n",
    "        passwd = mysql_pass,\n",
    "        db = 'MICO_96'\n",
    "    )\n",
    "master_mysql_conn = master_mysql_con_init()"
   ]
  },
  {
   "cell_type": "code",
   "execution_count": 24,
   "id": "14008d6c",
   "metadata": {},
   "outputs": [],
   "source": [
    "def call_mysql_con_init():\n",
    "    with open('mysql.pass','r') as file:\n",
    "        mysql_pass = file.read().replace('\\n', '')\n",
    "        file.close()\n",
    "    return pymysql.connect(\n",
    "        host = '10.2.4.146', \n",
    "        user = 'asterisk', \n",
    "        passwd = mysql_pass,\n",
    "        db = 'asterisk'\n",
    "    )\n",
    "call_mysql_con = call_mysql_con_init()"
   ]
  },
  {
   "cell_type": "code",
   "execution_count": 40,
   "id": "2ffb5c83",
   "metadata": {},
   "outputs": [],
   "source": [
    "def get_file_list(path):\n",
    "    file_list = []\n",
    "    for root, dirs, files in os.walk(path):\n",
    "        for file in files:\n",
    "            file_list.append(os.path.join(root, file))\n",
    "            #file_list.append(root+'/'+file)\n",
    "    return file_list\n",
    "\n",
    "def get_file_date(file_list):\n",
    "    file_date = []\n",
    "    for file in file_list:\n",
    "        file_date.append(datetime.datetime.fromtimestamp(os.path.getmtime(file)))\n",
    "    return file_date\n",
    "\n",
    "def get_file_name(file_list):\n",
    "    path_name = []\n",
    "    file_name = []\n",
    "    for file in file_list:\n",
    "        #file_name.append(file)\n",
    "        file_name.append(os.path.basename(file))        \n",
    "        path_name.append(os.path.dirname(file))\n",
    "    return path_name, file_name"
   ]
  },
  {
   "cell_type": "code",
   "execution_count": null,
   "id": "a963cf4c",
   "metadata": {},
   "outputs": [],
   "source": [
    "def get_files(path):\n",
    "    file_list = get_file_list(path)\n",
    "    file_date = get_file_date(file_list)\n",
    "    path, file_name = get_file_name(file_list)\n",
    "    df = pd.DataFrame({'path':path, 'file_name':file_name, 'file_date':file_date})\n",
    "    df.sort_values(by='file_date', inplace=True)\n",
    "    return df"
   ]
  },
  {
   "cell_type": "markdown",
   "id": "130cc62d",
   "metadata": {},
   "source": [
    "#### Queue"
   ]
  },
  {
   "cell_type": "code",
   "execution_count": null,
   "id": "8364a2e0",
   "metadata": {},
   "outputs": [],
   "source": [
    "query = \"SELECT column_name FROM information_schema.columns WHERE table_name='queue';\"\n",
    "df = pd.read_sql(query, sql_conn)\n",
    "#df"
   ]
  },
  {
   "cell_type": "code",
   "execution_count": null,
   "id": "18c6c431",
   "metadata": {},
   "outputs": [],
   "source": [
    "df = pd.read_sql('select date, filename from queue where source_id=1', sql_conn)\n",
    "df.head(3)"
   ]
  },
  {
   "cell_type": "markdown",
   "id": "2413333a",
   "metadata": {},
   "source": [
    "#### Transcribations"
   ]
  },
  {
   "cell_type": "code",
   "execution_count": null,
   "id": "a0044a21",
   "metadata": {},
   "outputs": [],
   "source": [
    "query = \"SELECT column_name FROM information_schema.columns WHERE table_name='transcribations';\"\n",
    "df = pd.read_sql(query, sql_conn)\n",
    "#df"
   ]
  },
  {
   "cell_type": "code",
   "execution_count": null,
   "id": "258b28c5",
   "metadata": {},
   "outputs": [],
   "source": [
    "query = 'select distinct linkedid, audio_file_name from transcribations '\n",
    "query += \"where audio_file_name='in_4999029955_2021-12-10-08-41-59rxtx.wav'\"\n",
    "df = pd.read_sql(query, sql_conn)\n",
    "df"
   ]
  },
  {
   "cell_type": "code",
   "execution_count": null,
   "id": "f9fcbc8f",
   "metadata": {},
   "outputs": [],
   "source": [
    "query = 'select max(transcribation_date) from transcribations '\n",
    "query += \"where source_id=1\"\n",
    "df = pd.read_sql(query, sql_conn)\n",
    "df"
   ]
  },
  {
   "cell_type": "markdown",
   "id": "f4bbe8ab",
   "metadata": {},
   "source": [
    "#### Calls"
   ]
  },
  {
   "cell_type": "code",
   "execution_count": 21,
   "id": "7a7c590b",
   "metadata": {},
   "outputs": [
    {
     "data": {
      "text/html": [
       "<div>\n",
       "<style scoped>\n",
       "    .dataframe tbody tr th:only-of-type {\n",
       "        vertical-align: middle;\n",
       "    }\n",
       "\n",
       "    .dataframe tbody tr th {\n",
       "        vertical-align: top;\n",
       "    }\n",
       "\n",
       "    .dataframe thead th {\n",
       "        text-align: right;\n",
       "    }\n",
       "</style>\n",
       "<table border=\"1\" class=\"dataframe\">\n",
       "  <thead>\n",
       "    <tr style=\"text-align: right;\">\n",
       "      <th></th>\n",
       "      <th>column_name</th>\n",
       "    </tr>\n",
       "  </thead>\n",
       "  <tbody>\n",
       "  </tbody>\n",
       "</table>\n",
       "</div>"
      ],
      "text/plain": [
       "Empty DataFrame\n",
       "Columns: [column_name]\n",
       "Index: []"
      ]
     },
     "execution_count": 21,
     "metadata": {},
     "output_type": "execute_result"
    }
   ],
   "source": [
    "query = \"SELECT column_name FROM information_schema.columns WHERE table_name='calls';\"\n",
    "#df = pd.read_sql(query, calls_mysql_conn)"
   ]
  },
  {
   "cell_type": "code",
   "execution_count": null,
   "id": "419f1a71",
   "metadata": {},
   "outputs": [],
   "source": [
    "### DELETE\n",
    "#query = \"delete from calls where call_date>'2021-12-10 00-00-00';\"\n",
    "#calls = pd.read_sql(query, calls_mysql_conn)"
   ]
  },
  {
   "cell_type": "code",
   "execution_count": 4,
   "id": "1d46b30e",
   "metadata": {
    "scrolled": true
   },
   "outputs": [
    {
     "data": {
      "text/html": [
       "<div>\n",
       "<style scoped>\n",
       "    .dataframe tbody tr th:only-of-type {\n",
       "        vertical-align: middle;\n",
       "    }\n",
       "\n",
       "    .dataframe tbody tr th {\n",
       "        vertical-align: top;\n",
       "    }\n",
       "\n",
       "    .dataframe thead th {\n",
       "        text-align: right;\n",
       "    }\n",
       "</style>\n",
       "<table border=\"1\" class=\"dataframe\">\n",
       "  <thead>\n",
       "    <tr style=\"text-align: right;\">\n",
       "      <th></th>\n",
       "      <th>call_date</th>\n",
       "      <th>ak</th>\n",
       "      <th>miko</th>\n",
       "      <th>mrm</th>\n",
       "      <th>incoming</th>\n",
       "      <th>linkedid</th>\n",
       "      <th>base_name</th>\n",
       "    </tr>\n",
       "  </thead>\n",
       "  <tbody>\n",
       "    <tr>\n",
       "      <th>0</th>\n",
       "      <td>2021-12-10 10:10:02</td>\n",
       "      <td>0</td>\n",
       "      <td>1</td>\n",
       "      <td>0</td>\n",
       "      <td>1</td>\n",
       "      <td>1639120182.110147</td>\n",
       "      <td>1c_service</td>\n",
       "    </tr>\n",
       "    <tr>\n",
       "      <th>1</th>\n",
       "      <td>2021-12-10 10:10:21</td>\n",
       "      <td>0</td>\n",
       "      <td>1</td>\n",
       "      <td>0</td>\n",
       "      <td>0</td>\n",
       "      <td>1639120213.110184</td>\n",
       "      <td>1c_service</td>\n",
       "    </tr>\n",
       "    <tr>\n",
       "      <th>2</th>\n",
       "      <td>2021-12-10 10:10:21</td>\n",
       "      <td>0</td>\n",
       "      <td>1</td>\n",
       "      <td>0</td>\n",
       "      <td>0</td>\n",
       "      <td>1639120213.110184</td>\n",
       "      <td>1c_service_region</td>\n",
       "    </tr>\n",
       "    <tr>\n",
       "      <th>3</th>\n",
       "      <td>2021-12-10 10:10:21</td>\n",
       "      <td>0</td>\n",
       "      <td>1</td>\n",
       "      <td>0</td>\n",
       "      <td>0</td>\n",
       "      <td>1639120213.110184</td>\n",
       "      <td>1c_service_spb</td>\n",
       "    </tr>\n",
       "    <tr>\n",
       "      <th>4</th>\n",
       "      <td>2021-12-10 10:10:21</td>\n",
       "      <td>0</td>\n",
       "      <td>1</td>\n",
       "      <td>0</td>\n",
       "      <td>1</td>\n",
       "      <td>1639120213.110184</td>\n",
       "      <td>1c_service</td>\n",
       "    </tr>\n",
       "    <tr>\n",
       "      <th>...</th>\n",
       "      <td>...</td>\n",
       "      <td>...</td>\n",
       "      <td>...</td>\n",
       "      <td>...</td>\n",
       "      <td>...</td>\n",
       "      <td>...</td>\n",
       "      <td>...</td>\n",
       "    </tr>\n",
       "    <tr>\n",
       "      <th>1835</th>\n",
       "      <td>2021-12-10 12:25:49</td>\n",
       "      <td>0</td>\n",
       "      <td>1</td>\n",
       "      <td>0</td>\n",
       "      <td>0</td>\n",
       "      <td>1639128348.115182</td>\n",
       "      <td>1c_service</td>\n",
       "    </tr>\n",
       "    <tr>\n",
       "      <th>1836</th>\n",
       "      <td>2021-12-10 12:25:51</td>\n",
       "      <td>0</td>\n",
       "      <td>1</td>\n",
       "      <td>0</td>\n",
       "      <td>1</td>\n",
       "      <td>1639128348.115181</td>\n",
       "      <td>1c_service</td>\n",
       "    </tr>\n",
       "    <tr>\n",
       "      <th>1837</th>\n",
       "      <td>2021-12-10 12:25:57</td>\n",
       "      <td>1</td>\n",
       "      <td>0</td>\n",
       "      <td>1</td>\n",
       "      <td>0</td>\n",
       "      <td>1639128354.2367938</td>\n",
       "      <td>1c_service</td>\n",
       "    </tr>\n",
       "    <tr>\n",
       "      <th>1838</th>\n",
       "      <td>2021-12-10 12:26:17</td>\n",
       "      <td>1</td>\n",
       "      <td>0</td>\n",
       "      <td>1</td>\n",
       "      <td>0</td>\n",
       "      <td>1639128375.2367964</td>\n",
       "      <td>1c_service</td>\n",
       "    </tr>\n",
       "    <tr>\n",
       "      <th>1839</th>\n",
       "      <td>2021-12-10 12:26:21</td>\n",
       "      <td>1</td>\n",
       "      <td>0</td>\n",
       "      <td>1</td>\n",
       "      <td>0</td>\n",
       "      <td>1639128378.2367969</td>\n",
       "      <td>1c_service</td>\n",
       "    </tr>\n",
       "  </tbody>\n",
       "</table>\n",
       "<p>1840 rows × 7 columns</p>\n",
       "</div>"
      ],
      "text/plain": [
       "               call_date  ak  miko  mrm  incoming            linkedid  \\\n",
       "0    2021-12-10 10:10:02   0     1    0         1   1639120182.110147   \n",
       "1    2021-12-10 10:10:21   0     1    0         0   1639120213.110184   \n",
       "2    2021-12-10 10:10:21   0     1    0         0   1639120213.110184   \n",
       "3    2021-12-10 10:10:21   0     1    0         0   1639120213.110184   \n",
       "4    2021-12-10 10:10:21   0     1    0         1   1639120213.110184   \n",
       "...                  ...  ..   ...  ...       ...                 ...   \n",
       "1835 2021-12-10 12:25:49   0     1    0         0   1639128348.115182   \n",
       "1836 2021-12-10 12:25:51   0     1    0         1   1639128348.115181   \n",
       "1837 2021-12-10 12:25:57   1     0    1         0  1639128354.2367938   \n",
       "1838 2021-12-10 12:26:17   1     0    1         0  1639128375.2367964   \n",
       "1839 2021-12-10 12:26:21   1     0    1         0  1639128378.2367969   \n",
       "\n",
       "              base_name  \n",
       "0            1c_service  \n",
       "1            1c_service  \n",
       "2     1c_service_region  \n",
       "3        1c_service_spb  \n",
       "4            1c_service  \n",
       "...                 ...  \n",
       "1835         1c_service  \n",
       "1836         1c_service  \n",
       "1837         1c_service  \n",
       "1838         1c_service  \n",
       "1839         1c_service  \n",
       "\n",
       "[1840 rows x 7 columns]"
      ]
     },
     "execution_count": 4,
     "metadata": {},
     "output_type": "execute_result"
    }
   ],
   "source": [
    "query = \"SELECT distinct\"\n",
    "query += \" call_date, ak, miko, mrm, incoming, linkedid, base_name\"\n",
    "query += \" FROM calls\"\n",
    "query += \" where call_date>'2021-12-10 10-10-00'\"\n",
    "query += \" order by call_date;\"\n",
    "calls = pd.read_sql(query, calls_mysql_conn)\n",
    "#calls = pd.read_sql(\"SELECT distinct * FROM calls where linkedid='1639126809.114061' order by call_date;\", calls_mysql_conn)\n",
    "#calls = pd.read_sql(\"SELECT * FROM calls where linkedid='1639033806.82183' order by call_date;\", calls_mysql_conn)\n",
    "calls"
   ]
  },
  {
   "cell_type": "markdown",
   "id": "1ab48ea7",
   "metadata": {},
   "source": [
    "#### Cdr call"
   ]
  },
  {
   "cell_type": "code",
   "execution_count": 28,
   "id": "7a07c71e",
   "metadata": {},
   "outputs": [],
   "source": [
    "query = \"SELECT column_name FROM information_schema.columns WHERE table_name='cdr';\"\n",
    "df = pd.read_sql(query, call_mysql_con)\n",
    "#for idx, row in df.iterrows():\n",
    "#    print(row.column_name)"
   ]
  },
  {
   "cell_type": "code",
   "execution_count": null,
   "id": "b44705ea",
   "metadata": {},
   "outputs": [],
   "source": [
    "\"select calldate, src, dst from cdr where uniqueid = '\" + uniqueid + \"' limit 1;\""
   ]
  },
  {
   "cell_type": "markdown",
   "id": "6b1792c5",
   "metadata": {},
   "source": [
    "#### PT1C_cdr_MICO master"
   ]
  },
  {
   "cell_type": "code",
   "execution_count": 38,
   "id": "70fc633b",
   "metadata": {},
   "outputs": [],
   "source": [
    "query = \"SELECT column_name FROM information_schema.columns WHERE table_name='PT1C_cdr_MICO';\"\n",
    "#query = \"show tables;\"\n",
    "df = pd.read_sql(query, master_mysql_conn)\n",
    "#df"
   ]
  },
  {
   "cell_type": "code",
   "execution_count": 36,
   "id": "d6dae27a",
   "metadata": {},
   "outputs": [
    {
     "data": {
      "text/html": [
       "<div>\n",
       "<style scoped>\n",
       "    .dataframe tbody tr th:only-of-type {\n",
       "        vertical-align: middle;\n",
       "    }\n",
       "\n",
       "    .dataframe tbody tr th {\n",
       "        vertical-align: top;\n",
       "    }\n",
       "\n",
       "    .dataframe thead th {\n",
       "        text-align: right;\n",
       "    }\n",
       "</style>\n",
       "<table border=\"1\" class=\"dataframe\">\n",
       "  <thead>\n",
       "    <tr style=\"text-align: right;\">\n",
       "      <th></th>\n",
       "      <th>id</th>\n",
       "      <th>calldate</th>\n",
       "      <th>clid</th>\n",
       "      <th>src</th>\n",
       "      <th>dst</th>\n",
       "      <th>dcontext</th>\n",
       "      <th>lastapp</th>\n",
       "      <th>lastdata</th>\n",
       "      <th>duration</th>\n",
       "      <th>billsec</th>\n",
       "      <th>...</th>\n",
       "      <th>amaflags</th>\n",
       "      <th>accountcode</th>\n",
       "      <th>uniqueid</th>\n",
       "      <th>userfield</th>\n",
       "      <th>answer</th>\n",
       "      <th>end</th>\n",
       "      <th>recordingfile</th>\n",
       "      <th>peeraccount</th>\n",
       "      <th>linkedid</th>\n",
       "      <th>sequence</th>\n",
       "    </tr>\n",
       "  </thead>\n",
       "  <tbody>\n",
       "    <tr>\n",
       "      <th>0</th>\n",
       "      <td>0</td>\n",
       "      <td>2019-02-10 18:30:06</td>\n",
       "      <td>\"4950000001\" &lt;74991376253&gt;</td>\n",
       "      <td>74991376253</td>\n",
       "      <td>s</td>\n",
       "      <td>Work_time_CC</td>\n",
       "      <td>Queue</td>\n",
       "      <td>queue_oper,Ttr</td>\n",
       "      <td>163.848</td>\n",
       "      <td>163.847</td>\n",
       "      <td>...</td>\n",
       "      <td>DOCUMENTATION</td>\n",
       "      <td>None</td>\n",
       "      <td>1549812606.613008</td>\n",
       "      <td></td>\n",
       "      <td>2019-02-10 18:30:06</td>\n",
       "      <td>2019-02-10 18:32:50</td>\n",
       "      <td>2019-02/10/in_74991376253_2019-02-10-18-30-07....</td>\n",
       "      <td></td>\n",
       "      <td>1549812606.613008</td>\n",
       "      <td>709909</td>\n",
       "    </tr>\n",
       "  </tbody>\n",
       "</table>\n",
       "<p>1 rows × 23 columns</p>\n",
       "</div>"
      ],
      "text/plain": [
       "   id            calldate                        clid          src dst  \\\n",
       "0   0 2019-02-10 18:30:06  \"4950000001\" <74991376253>  74991376253   s   \n",
       "\n",
       "       dcontext lastapp        lastdata  duration  billsec  ...  \\\n",
       "0  Work_time_CC   Queue  queue_oper,Ttr   163.848  163.847  ...   \n",
       "\n",
       "        amaflags accountcode           uniqueid userfield              answer  \\\n",
       "0  DOCUMENTATION        None  1549812606.613008           2019-02-10 18:30:06   \n",
       "\n",
       "                  end                                      recordingfile  \\\n",
       "0 2019-02-10 18:32:50  2019-02/10/in_74991376253_2019-02-10-18-30-07....   \n",
       "\n",
       "  peeraccount           linkedid sequence  \n",
       "0              1549812606.613008   709909  \n",
       "\n",
       "[1 rows x 23 columns]"
      ]
     },
     "execution_count": 36,
     "metadata": {},
     "output_type": "execute_result"
    }
   ],
   "source": [
    "query = \"SELECT * from PT1C_cdr_MICO limit 1;\"\n",
    "df = pd.read_sql(query, master_mysql_conn)\n",
    "df"
   ]
  },
  {
   "cell_type": "markdown",
   "id": "c3bcec80",
   "metadata": {},
   "source": [
    "#### Files call"
   ]
  },
  {
   "cell_type": "code",
   "execution_count": null,
   "id": "527ec231",
   "metadata": {},
   "outputs": [],
   "source": [
    "files_path = 'call/saved_for_analysis/debug/call'\n",
    "df = get_files(files_path)\n",
    "df.to_csv('files_call.csv', index=False)\n",
    "df.head(3)"
   ]
  },
  {
   "cell_type": "markdown",
   "id": "e2d5eced",
   "metadata": {},
   "source": [
    "#### Files master"
   ]
  },
  {
   "cell_type": "code",
   "execution_count": null,
   "id": "7e010eb4",
   "metadata": {},
   "outputs": [],
   "source": [
    "files_path = 'call/saved_for_analysis/debug/master'\n",
    "df = get_files(files_path)\n",
    "df.to_csv('files_call.csv', index=False)\n",
    "df.head(3)"
   ]
  }
 ],
 "metadata": {
  "kernelspec": {
   "display_name": "Python 3 (ipykernel)",
   "language": "python",
   "name": "python3"
  },
  "language_info": {
   "codemirror_mode": {
    "name": "ipython",
    "version": 3
   },
   "file_extension": ".py",
   "mimetype": "text/x-python",
   "name": "python",
   "nbconvert_exporter": "python",
   "pygments_lexer": "ipython3",
   "version": "3.8.8"
  }
 },
 "nbformat": 4,
 "nbformat_minor": 5
}
