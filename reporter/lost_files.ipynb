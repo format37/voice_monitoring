{
 "cells": [
  {
   "cell_type": "code",
   "execution_count": null,
   "id": "ec4d9d00",
   "metadata": {},
   "outputs": [],
   "source": [
    "import pymysql\n",
    "import pymssql\n",
    "import os\n",
    "import pandas as pd\n",
    "import datetime\n",
    "import re\n",
    "import numpy as np"
   ]
  },
  {
   "cell_type": "code",
   "execution_count": null,
   "id": "ce324684",
   "metadata": {},
   "outputs": [],
   "source": [
    "def ms_sql_con():\n",
    "    sql_name = 'voice_ai'\n",
    "    sql_server = '10.2.4.124'\n",
    "    sql_login = 'ICECORP\\\\1c_sql'\n",
    "\n",
    "    with open('sql.pass','r') as file:\n",
    "        sql_pass = file.read().replace('\\n', '')\n",
    "        file.close()\n",
    "\n",
    "    return pymssql.connect(\n",
    "            server = sql_server,\n",
    "            user = sql_login,\n",
    "            password = sql_pass,\n",
    "            database = sql_name,\n",
    "        )\n",
    "sql_conn = ms_sql_con()"
   ]
  },
  {
   "cell_type": "code",
   "execution_count": null,
   "id": "5cfa4677",
   "metadata": {},
   "outputs": [],
   "source": [
    "def calls_mysql_con_init():\n",
    "    return pymysql.connect(\n",
    "        host = '10.2.4.87',\n",
    "        user = 'root',\n",
    "        passwd = 'root',\n",
    "        database = 'ml'\n",
    "    )\n",
    "calls_mysql_conn = calls_mysql_con_init()"
   ]
  },
  {
   "cell_type": "code",
   "execution_count": null,
   "id": "76d1c7d2",
   "metadata": {},
   "outputs": [],
   "source": [
    "def master_mysql_con_init():\n",
    "    with open('mysql.pass','r') as file:\n",
    "        mysql_pass = file.read().replace('\\n', '')\n",
    "        file.close()\n",
    "    return pymysql.connect(\n",
    "        host = '10.2.4.146', \n",
    "        user = 'asterisk', \n",
    "        passwd = mysql_pass,\n",
    "        db = 'MICO_96'\n",
    "    )\n",
    "master_mysql_conn = master_mysql_con_init()"
   ]
  },
  {
   "cell_type": "code",
   "execution_count": null,
   "id": "14008d6c",
   "metadata": {},
   "outputs": [],
   "source": [
    "def call_mysql_con_init():\n",
    "    with open('mysql.pass','r') as file:\n",
    "        mysql_pass = file.read().replace('\\n', '')\n",
    "        file.close()\n",
    "    return pymysql.connect(\n",
    "        host = '10.2.4.146', \n",
    "        user = 'asterisk', \n",
    "        passwd = mysql_pass,\n",
    "        db = 'asterisk'\n",
    "    )\n",
    "call_mysql_con = call_mysql_con_init()"
   ]
  },
  {
   "cell_type": "code",
   "execution_count": null,
   "id": "2ffb5c83",
   "metadata": {},
   "outputs": [],
   "source": [
    "def get_file_list(path):\n",
    "    file_list = []\n",
    "    for root, dirs, files in os.walk(path):\n",
    "        for file in files:\n",
    "            file_list.append(os.path.join(root, file))\n",
    "            #file_list.append(root+'/'+file)\n",
    "    return file_list\n",
    "\n",
    "def get_file_date(file_list):\n",
    "    file_date = []\n",
    "    for file in file_list:\n",
    "        file_date.append(datetime.datetime.fromtimestamp(os.path.getmtime(file)))\n",
    "    return file_date\n",
    "\n",
    "def get_file_name(file_list):\n",
    "    path_name = []\n",
    "    file_name = []\n",
    "    for file in file_list:\n",
    "        #file_name.append(file)\n",
    "        file_name.append(os.path.basename(file))        \n",
    "        path_name.append(os.path.dirname(file))\n",
    "    return path_name, file_name"
   ]
  },
  {
   "cell_type": "code",
   "execution_count": null,
   "id": "a963cf4c",
   "metadata": {},
   "outputs": [],
   "source": [
    "def get_files(path):\n",
    "    file_list = get_file_list(path)\n",
    "    file_date = get_file_date(file_list)\n",
    "    path, file_name = get_file_name(file_list)\n",
    "    df = pd.DataFrame({'path':path, 'file_name':file_name, 'file_date':file_date})\n",
    "    df.sort_values(by='file_date', inplace=True)\n",
    "    return df"
   ]
  },
  {
   "cell_type": "markdown",
   "id": "130cc62d",
   "metadata": {},
   "source": [
    "#### Queue"
   ]
  },
  {
   "cell_type": "code",
   "execution_count": null,
   "id": "8364a2e0",
   "metadata": {},
   "outputs": [],
   "source": [
    "query = \"SELECT column_name FROM information_schema.columns WHERE table_name='queue';\"\n",
    "df = pd.read_sql(query, sql_conn)\n",
    "#df"
   ]
  },
  {
   "cell_type": "code",
   "execution_count": null,
   "id": "18c6c431",
   "metadata": {},
   "outputs": [],
   "source": [
    "df = pd.read_sql('select date, filename from queue where source_id=1', sql_conn)\n",
    "df.head(3)"
   ]
  },
  {
   "cell_type": "markdown",
   "id": "2413333a",
   "metadata": {},
   "source": [
    "#### Transcribations"
   ]
  },
  {
   "cell_type": "code",
   "execution_count": null,
   "id": "a0044a21",
   "metadata": {},
   "outputs": [],
   "source": [
    "query = \"SELECT column_name FROM information_schema.columns WHERE table_name='transcribations';\"\n",
    "df = pd.read_sql(query, sql_conn)\n",
    "df"
   ]
  },
  {
   "cell_type": "code",
   "execution_count": null,
   "id": "258b28c5",
   "metadata": {},
   "outputs": [],
   "source": [
    "query = 'select distinct linkedid, audio_file_name from transcribations '\n",
    "query += \"where audio_file_name='in_4999029955_2021-12-10-08-41-59rxtx.wav'\"\n",
    "df = pd.read_sql(query, sql_conn)\n",
    "df"
   ]
  },
  {
   "cell_type": "code",
   "execution_count": null,
   "id": "f9fcbc8f",
   "metadata": {},
   "outputs": [],
   "source": [
    "query = 'select max(transcribation_date) from transcribations '\n",
    "query += \"where source_id=1\"\n",
    "df = pd.read_sql(query, sql_conn)\n",
    "df"
   ]
  },
  {
   "cell_type": "markdown",
   "id": "f4bbe8ab",
   "metadata": {},
   "source": [
    "#### Calls"
   ]
  },
  {
   "cell_type": "code",
   "execution_count": null,
   "id": "7a7c590b",
   "metadata": {},
   "outputs": [],
   "source": [
    "query = \"SELECT column_name FROM information_schema.columns WHERE table_name='calls';\"\n",
    "#df = pd.read_sql(query, calls_mysql_conn)"
   ]
  },
  {
   "cell_type": "code",
   "execution_count": null,
   "id": "419f1a71",
   "metadata": {},
   "outputs": [],
   "source": [
    "### DELETE\n",
    "#query = \"delete from calls where call_date>'2021-12-10 00-00-00';\"\n",
    "#calls = pd.read_sql(query, calls_mysql_conn)"
   ]
  },
  {
   "cell_type": "code",
   "execution_count": null,
   "id": "1d46b30e",
   "metadata": {
    "scrolled": true
   },
   "outputs": [],
   "source": [
    "query = \"SELECT distinct\"\n",
    "query += \" call_date, ak, miko, mrm, incoming, linkedid, base_name\"\n",
    "query += \" FROM calls\"\n",
    "query += \" where call_date>'2021-12-10 10-10-00'\"\n",
    "query += \" order by call_date;\"\n",
    "calls = pd.read_sql(query, calls_mysql_conn)\n",
    "#calls = pd.read_sql(\"SELECT distinct * FROM calls where linkedid='1639126809.114061' order by call_date;\", calls_mysql_conn)\n",
    "#calls = pd.read_sql(\"SELECT * FROM calls where linkedid='1639033806.82183' order by call_date;\", calls_mysql_conn)\n",
    "calls.head(3)"
   ]
  },
  {
   "cell_type": "markdown",
   "id": "1ab48ea7",
   "metadata": {},
   "source": [
    "#### Cdr call"
   ]
  },
  {
   "cell_type": "code",
   "execution_count": null,
   "id": "7a07c71e",
   "metadata": {},
   "outputs": [],
   "source": [
    "query = \"SELECT column_name FROM information_schema.columns WHERE table_name='cdr';\"\n",
    "df = pd.read_sql(query, call_mysql_con)\n",
    "#for idx, row in df.iterrows():\n",
    "#    print(row.column_name)"
   ]
  },
  {
   "cell_type": "code",
   "execution_count": null,
   "id": "b44705ea",
   "metadata": {},
   "outputs": [],
   "source": [
    "\"select calldate, src, dst from cdr where uniqueid = '\" + uniqueid + \"' limit 1;\""
   ]
  },
  {
   "cell_type": "markdown",
   "id": "6b1792c5",
   "metadata": {},
   "source": [
    "#### PT1C_cdr_MICO master"
   ]
  },
  {
   "cell_type": "code",
   "execution_count": null,
   "id": "70fc633b",
   "metadata": {},
   "outputs": [],
   "source": [
    "query = \"SELECT column_name FROM information_schema.columns WHERE table_name='PT1C_cdr_MICO';\"\n",
    "#query = \"show tables;\"\n",
    "df = pd.read_sql(query, master_mysql_conn)\n",
    "df"
   ]
  },
  {
   "cell_type": "code",
   "execution_count": null,
   "id": "d6dae27a",
   "metadata": {},
   "outputs": [],
   "source": [
    "query = \"SELECT * from PT1C_cdr_MICO limit 1;\"\n",
    "df = pd.read_sql(query, master_mysql_conn)\n",
    "df"
   ]
  },
  {
   "cell_type": "markdown",
   "id": "c3bcec80",
   "metadata": {},
   "source": [
    "#### Files call"
   ]
  },
  {
   "cell_type": "code",
   "execution_count": null,
   "id": "527ec231",
   "metadata": {},
   "outputs": [],
   "source": [
    "files_path = 'call/saved_for_analysis/debug/call'\n",
    "dfc = get_files(files_path)\n",
    "dfc.to_csv('files_call.csv', index=False)\n",
    "dfc.head(3)"
   ]
  },
  {
   "cell_type": "markdown",
   "id": "e2d5eced",
   "metadata": {},
   "source": [
    "#### Files master"
   ]
  },
  {
   "cell_type": "code",
   "execution_count": null,
   "id": "7e010eb4",
   "metadata": {},
   "outputs": [],
   "source": [
    "files_path = 'call/saved_for_analysis/debug/master'\n",
    "dfm = get_files(files_path)\n",
    "dfm.to_csv('files_call.csv', index=False)\n",
    "dfm.head(3)"
   ]
  },
  {
   "cell_type": "markdown",
   "id": "f1125ebc",
   "metadata": {},
   "source": [
    "### Relation: Calls - files"
   ]
  },
  {
   "cell_type": "code",
   "execution_count": null,
   "id": "d8e1e50e",
   "metadata": {},
   "outputs": [],
   "source": [
    "calls.head(3)"
   ]
  },
  {
   "cell_type": "code",
   "execution_count": null,
   "id": "cd0af43e",
   "metadata": {},
   "outputs": [],
   "source": [
    "query = \"select calldate, src, dst from cdr where uniqueid = '1639120182.110147' limit 1;\"\n",
    "df = pd.read_sql(query, call_mysql_con)\n",
    "df"
   ]
  },
  {
   "cell_type": "code",
   "execution_count": null,
   "id": "3a74f030",
   "metadata": {},
   "outputs": [],
   "source": [
    "query = \"SELECT * from PT1C_cdr_MICO where uniqueid = '1639120182.110147' limit 1;\"\n",
    "dfcdr = pd.read_sql(query, master_mysql_conn)\n",
    "dfcdr"
   ]
  },
  {
   "cell_type": "code",
   "execution_count": null,
   "id": "40564bab",
   "metadata": {},
   "outputs": [],
   "source": [
    "dfcdr.recordingfile.iloc()[0]"
   ]
  },
  {
   "cell_type": "code",
   "execution_count": null,
   "id": "508c327c",
   "metadata": {},
   "outputs": [],
   "source": [
    "dfc[dfc.file_name=='in_79269465675_2021-12-10-10-09-43.wav']#.iloc()[0]"
   ]
  },
  {
   "cell_type": "code",
   "execution_count": null,
   "id": "a4654d07",
   "metadata": {},
   "outputs": [],
   "source": [
    "dfm[dfm.file_name=='in_79269465675_2021-12-10-10-09-43.wav']#.iloc()[0]"
   ]
  },
  {
   "cell_type": "code",
   "execution_count": null,
   "id": "301c3b24",
   "metadata": {},
   "outputs": [],
   "source": [
    "query = 'select distinct linkedid, audio_file_name, record_date from transcribations '\n",
    "query += \"where record_date>'2021-12-10 10:10:00'\"\n",
    "#query += \"where linkedid='1639120182.110147'\"\n",
    "#query += \"where src='79269465675'\"\n",
    "trans = pd.read_sql(query, sql_conn)\n",
    "trans.head(3)"
   ]
  },
  {
   "cell_type": "code",
   "execution_count": null,
   "id": "7775a367",
   "metadata": {},
   "outputs": [],
   "source": [
    "### Calls - transcribation relation\n",
    "calls_trans = pd.merge(calls, trans, how='left', on='linkedid')\n",
    "calls_trans['only_in_calls'] = calls_trans['audio_file_name'].isnull()\n",
    "#calls_trans['only_in_dft'] = calls_trans['call_date'].isnull()\n",
    "calls_trans.head(3)"
   ]
  },
  {
   "cell_type": "code",
   "execution_count": null,
   "id": "41789d64",
   "metadata": {},
   "outputs": [],
   "source": [
    "print(\n",
    "    'С\\n', \n",
    "    min(calls_trans[calls_trans.only_in_calls].call_date), \n",
    "    '\\nПо\\n', \n",
    "    max(calls_trans[calls_trans.only_in_calls].call_date), \n",
    "    '\\n['+str(len(set(calls_trans[calls_trans.only_in_calls].linkedid)))+']',\n",
    "    'Звонков без транскрибации'\n",
    ")"
   ]
  },
  {
   "cell_type": "code",
   "execution_count": null,
   "id": "7ce188f0",
   "metadata": {},
   "outputs": [],
   "source": [
    "### Lost_calls - cdr_master\n",
    "query = \"SELECT * from PT1C_cdr_MICO where calldate >= '2021-12-10 10:10:02' and calldate <= '2021-12-10 12:27:26';\"\n",
    "dfcdr = pd.read_sql(query, master_mysql_conn)\n",
    "dfcdr.head(3)"
   ]
  },
  {
   "cell_type": "code",
   "execution_count": null,
   "id": "e4a673d0",
   "metadata": {},
   "outputs": [],
   "source": [
    "lost_calls = calls_trans[calls_trans.only_in_calls]\n",
    "cdr_master = dfcdr[{'linkedid','recordingfile'}]\n",
    "lost_calls = pd.merge(lost_calls, cdr_master, how='left', on='linkedid')\n",
    "lost_calls['not_found_in_cdr_master'] = lost_files_call['recordingfile'].isnull()\n",
    "lost_calls.head(3)"
   ]
  },
  {
   "cell_type": "code",
   "execution_count": null,
   "id": "66a66d8a",
   "metadata": {},
   "outputs": [],
   "source": [
    "### Lost_calls cdr_call\n",
    "query = \"SELECT * from cdr where calldate >= '2021-12-10 10:10:02' and calldate <= '2021-12-10 12:27:26';\"\n",
    "dfcdr = pd.read_sql(query, call_mysql_con)\n",
    "dfcdr.head(3)"
   ]
  },
  {
   "cell_type": "code",
   "execution_count": null,
   "id": "f53a27c1",
   "metadata": {},
   "outputs": [],
   "source": [
    "#lost_calls = calls_trans[calls_trans.only_in_calls]\n",
    "cdr_call = dfcdr[{'uniqueid','recordingfile'}]\n",
    "lost_calls = pd.merge(lost_calls, cdr_master, how='left', on='linkedid')\n",
    "lost_calls['not_found_in_cdr_call'] = lost_files_call['recordingfile'].isnull()\n",
    "lost_calls.head(3)"
   ]
  },
  {
   "cell_type": "code",
   "execution_count": null,
   "id": "0cdcc09c",
   "metadata": {},
   "outputs": [],
   "source": [
    "def filename_normalize(name):\n",
    "    if name == np.nan or name != name:\n",
    "        return name    \n",
    "    else:\n",
    "        name = re.sub(r'^.*/', '', name)\n",
    "        name = re.sub(r'\\..*$', '', name)\n",
    "        return name"
   ]
  },
  {
   "cell_type": "code",
   "execution_count": null,
   "id": "ec45e1ff",
   "metadata": {},
   "outputs": [],
   "source": [
    "lost_calls.columns"
   ]
  },
  {
   "cell_type": "code",
   "execution_count": null,
   "id": "b06be749",
   "metadata": {},
   "outputs": [],
   "source": [
    "#lost_calls['recordingfile_x'] = lost_calls['recordingfile_x'].apply(filename_normalize)"
   ]
  },
  {
   "cell_type": "code",
   "execution_count": null,
   "id": "bd74178e",
   "metadata": {},
   "outputs": [],
   "source": [
    "lost_calls.head(3)"
   ]
  },
  {
   "cell_type": "code",
   "execution_count": null,
   "id": "e1e5e7ec",
   "metadata": {},
   "outputs": [],
   "source": [
    "lost_linkedid = lost_calls[{'linkedid', 'recordingfile_x', 'recordingfile_y'}]"
   ]
  },
  {
   "cell_type": "code",
   "execution_count": null,
   "id": "79494618",
   "metadata": {},
   "outputs": [],
   "source": [
    "#lost_linkedid.apply(pd.Series.nunique, axis=0)"
   ]
  },
  {
   "cell_type": "code",
   "execution_count": null,
   "id": "7982076c",
   "metadata": {},
   "outputs": [],
   "source": [
    "df = lost_linkedid.groupby(['linkedid', 'recordingfile_x', 'recordingfile_y']).max()\n",
    "df.reset_index(inplace=True)\n",
    "df.drop('recordingfile_y', axis=1, inplace=True)\n",
    "df.head(3)\n",
    "#for idx, row in df.iterrows():\n",
    "#    print(row.linkedid, row.recordingfile_x)"
   ]
  },
  {
   "cell_type": "code",
   "execution_count": null,
   "id": "a1b4bbec",
   "metadata": {},
   "outputs": [],
   "source": [
    "df.to_csv('файлы_не_попавшие_на_расшифровку.csv')"
   ]
  },
  {
   "cell_type": "code",
   "execution_count": null,
   "id": "e02103fa",
   "metadata": {},
   "outputs": [],
   "source": [
    "# calldate >= '2021-12-10 10:10:02' and calldate <= '2021-12-10 12:27:26'"
   ]
  },
  {
   "cell_type": "code",
   "execution_count": null,
   "id": "c40b02ee",
   "metadata": {},
   "outputs": [],
   "source": [
    "crop_dfc = pd.DataFrame(dfc[(dfc.file_date>='2021-12-10 10:10:02') & (dfc.file_date<='2021-12-10 12:27:26')])\n",
    "crop_dfc.drop('path', axis=1, inplace=True)\n",
    "crop_dfc.to_csv('файлы_кц.csv')\n",
    "crop_dfc.head(3)"
   ]
  },
  {
   "cell_type": "code",
   "execution_count": null,
   "id": "2117b742",
   "metadata": {},
   "outputs": [],
   "source": [
    "crop_dfm = pd.DataFrame(dfm[(dfm.file_date>='2021-12-10 10:10:02') & (dfm.file_date<='2021-12-10 12:27:26')])\n",
    "crop_dfm.drop('path', axis=1, inplace=True)\n",
    "crop_dfm.to_csv('файлы_мастеров.csv')\n",
    "crop_dfm.head(3)"
   ]
  }
 ],
 "metadata": {
  "kernelspec": {
   "display_name": "Python 3 (ipykernel)",
   "language": "python",
   "name": "python3"
  },
  "language_info": {
   "codemirror_mode": {
    "name": "ipython",
    "version": 3
   },
   "file_extension": ".py",
   "mimetype": "text/x-python",
   "name": "python",
   "nbconvert_exporter": "python",
   "pygments_lexer": "ipython3",
   "version": "3.8.8"
  }
 },
 "nbformat": 4,
 "nbformat_minor": 5
}
